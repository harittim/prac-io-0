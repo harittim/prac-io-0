{
 "cells": [
  {
   "cell_type": "code",
   "execution_count": 38,
   "id": "61c2388d-d933-47f5-ac54-b27831cbb95a",
   "metadata": {},
   "outputs": [],
   "source": [
    "import torch, torch.nn as nn"
   ]
  },
  {
   "cell_type": "code",
   "execution_count": 116,
   "id": "9d7e62d8-f423-4756-9127-b58e4487938f",
   "metadata": {},
   "outputs": [],
   "source": [
    "class Net(nn.Module):\n",
    "    def __init__(self, in_size, out_size, hidden = 32):\n",
    "        super().__init__()\n",
    "        self.conv = nn.Sequential(nn.Conv2d(1, 10, 15),#10x14x14\n",
    "            nn.Conv2d(10, 20, 14))#20x1x1\n",
    "                            \n",
    "        self.ffn = nn.Sequential(nn.Flatten(),\n",
    "    nn.Linear(20, hidden), nn.ReLU(), nn.Linear(hidden, hidden), nn.ReLU(), nn.Linear(hidden, out_size))\n",
    "\n",
    "    def forward(self, x):\n",
    "        return self.ffn(self.conv(x))\n",
    "        \n",
    "        "
   ]
  },
  {
   "cell_type": "code",
   "execution_count": 117,
   "id": "9c2f1b8f-299b-4652-838d-353e02feb30c",
   "metadata": {},
   "outputs": [],
   "source": [
    "from torch.utils.data import DataLoader, Dataset\n",
    "from torchvision.datasets import MNIST\n",
    "import torchvision.transforms as T"
   ]
  },
  {
   "cell_type": "code",
   "execution_count": 118,
   "id": "feccc2c2-9e7e-47a5-a2f7-84e179f09bf7",
   "metadata": {},
   "outputs": [],
   "source": [
    "train_set = MNIST(\".MNIST\", train=True, transform=T.ToTensor(),  download=True)\n",
    "val_set = MNIST(\".MNIST\", train=True, transform=T.ToTensor(), download=True)\n",
    "\n",
    "train = DataLoader(train_set, batch_size=64, shuffle=True)\n",
    "val = DataLoader(val_set, batch_size=64, shuffle=True)"
   ]
  },
  {
   "cell_type": "code",
   "execution_count": 119,
   "id": "f9c1879b-3a5f-4bcb-8137-e053a090ca5d",
   "metadata": {},
   "outputs": [
    {
     "data": {
      "text/plain": [
       "torch.Size([1, 28, 28])"
      ]
     },
     "execution_count": 119,
     "metadata": {},
     "output_type": "execute_result"
    }
   ],
   "source": [
    "train_set[0][0].shape"
   ]
  },
  {
   "cell_type": "code",
   "execution_count": 121,
   "id": "d5faa818-0144-4f5c-a1a7-ec500c7c3ef7",
   "metadata": {},
   "outputs": [
    {
     "name": "stdout",
     "output_type": "stream",
     "text": [
      "tensor(0.9373)\n",
      "tensor(0.9489)\n",
      "tensor(0.9526)\n",
      "tensor(0.9628)\n",
      "tensor(0.9630)\n",
      "tensor(0.9671)\n",
      "tensor(0.9672)\n",
      "tensor(0.9717)\n",
      "tensor(0.9728)\n",
      "tensor(0.9729)\n",
      "tensor(0.9759)\n",
      "tensor(0.9764)\n",
      "tensor(0.9781)\n",
      "tensor(0.9754)\n",
      "tensor(0.9762)\n",
      "tensor(0.9775)\n",
      "tensor(0.9803)\n",
      "tensor(0.9802)\n",
      "tensor(0.9820)\n",
      "tensor(0.9773)\n"
     ]
    }
   ],
   "source": [
    "from torch.optim import Adam\n",
    "from torch.nn import CrossEntropyLoss\n",
    "from torch.optim import lr_scheduler\n",
    "\n",
    "NUM_EPOCHS = 20\n",
    "IMG_SIZE = 28\n",
    "CLASSES = 10\n",
    "model = Net(IMG_SIZE, CLASSES)\n",
    "optimizer = Adam(model.parameters())\n",
    "lossf = CrossEntropyLoss()\n",
    "\n",
    "for _ in range(NUM_EPOCHS):\n",
    "    for features, labels in train:\n",
    "        optimizer.zero_grad()\n",
    "        loss = lossf(model(features), labels)\n",
    "        loss.backward()\n",
    "        optimizer.step()\n",
    "    with torch.inference_mode():\n",
    "        total = 0\n",
    "        correct = 0\n",
    "        for features, labels in val:\n",
    "            pred = torch.argmax(model(features), dim = 1)\n",
    "            correct += sum(labels == pred)\n",
    "            total += len(labels)\n",
    "        print(correct/total)\n",
    "        \n",
    "    "
   ]
  },
  {
   "cell_type": "code",
   "execution_count": null,
   "id": "2ae3c4fb-bc59-42a7-bbfb-697d56a73a66",
   "metadata": {},
   "outputs": [],
   "source": [
    "#0.9682 - SGD + ExponentialLR\n",
    "#0.9820 - Adam"
   ]
  },
  {
   "cell_type": "code",
   "execution_count": null,
   "id": "74d498d2-e5f8-412a-a4dc-4046d9880909",
   "metadata": {},
   "outputs": [],
   "source": []
  },
  {
   "cell_type": "code",
   "execution_count": null,
   "id": "8cc4fced-1c8a-4ae8-9285-4d637a5a189e",
   "metadata": {},
   "outputs": [],
   "source": []
  }
 ],
 "metadata": {
  "kernelspec": {
   "display_name": "Python 3 (ipykernel)",
   "language": "python",
   "name": "python3"
  },
  "language_info": {
   "codemirror_mode": {
    "name": "ipython",
    "version": 3
   },
   "file_extension": ".py",
   "mimetype": "text/x-python",
   "name": "python",
   "nbconvert_exporter": "python",
   "pygments_lexer": "ipython3",
   "version": "3.12.0"
  }
 },
 "nbformat": 4,
 "nbformat_minor": 5
}
